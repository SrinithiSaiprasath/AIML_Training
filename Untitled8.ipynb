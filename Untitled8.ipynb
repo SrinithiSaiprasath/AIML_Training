{
  "nbformat": 4,
  "nbformat_minor": 0,
  "metadata": {
    "colab": {
      "provenance": [],
      "authorship_tag": "ABX9TyNFWNv1Fug68S5M49EJTYCo",
      "include_colab_link": true
    },
    "kernelspec": {
      "name": "python3",
      "display_name": "Python 3"
    },
    "language_info": {
      "name": "python"
    }
  },
  "cells": [
    {
      "cell_type": "markdown",
      "metadata": {
        "id": "view-in-github",
        "colab_type": "text"
      },
      "source": [
        "<a href=\"https://colab.research.google.com/github/SrinithiSaiprasath/AIML_Training/blob/main/Untitled8.ipynb\" target=\"_parent\"><img src=\"https://colab.research.google.com/assets/colab-badge.svg\" alt=\"Open In Colab\"/></a>"
      ]
    },
    {
      "cell_type": "code",
      "execution_count": null,
      "metadata": {
        "id": "JRQ59MFxRlcv"
      },
      "outputs": [],
      "source": [
        "from langdetect import detect\n",
        "from googletrans import Translator\n",
        "from textblob import TextBlob"
      ]
    },
    {
      "cell_type": "markdown",
      "source": [],
      "metadata": {
        "id": "L-5sq7PFsUJD"
      }
    },
    {
      "cell_type": "code",
      "source": [
        "translator = Translator()"
      ],
      "metadata": {
        "id": "WtUXLo37R73c"
      },
      "execution_count": null,
      "outputs": []
    },
    {
      "cell_type": "code",
      "source": [
        "def detect_language(text):\n",
        "    try:\n",
        "        return detect(text)\n",
        "    except Exception as e:\n",
        "        print(f\"Language detection failed: {e}\")\n",
        "        return \"unknown\""
      ],
      "metadata": {
        "id": "VID7I8CgR_L2"
      },
      "execution_count": null,
      "outputs": []
    },
    {
      "cell_type": "code",
      "source": [
        "def translate_to_english(text):\n",
        "    try:\n",
        "        translated = translator.translate(text, dest='en')\n",
        "        return translated.text\n",
        "    except Exception as e:\n",
        "        print(f\"Translation failed: {e}\")\n",
        "        return text"
      ],
      "metadata": {
        "id": "Xg8RBJyHSBEu"
      },
      "execution_count": null,
      "outputs": []
    },
    {
      "cell_type": "code",
      "source": [
        "def get_review(text):\n",
        "    lang = detect_language(text)\n",
        "    if lang != \"en\":\n",
        "        text = translate_to_english(text)\n",
        "    blob = TextBlob(text)\n",
        "    sentiment_score = blob.sentiment.polarity  # Range: [-1, 1]\n",
        "    if sentiment_score > 0.1:\n",
        "        return \"positive\"\n",
        "    elif sentiment_score < -0.1:\n",
        "        return \"negative\"\n",
        "    else:\n",
        "        return \"neutral\""
      ],
      "metadata": {
        "id": "NWUVhqcXSD8C"
      },
      "execution_count": null,
      "outputs": []
    },
    {
      "cell_type": "code",
      "source": [
        "get_review(\"C'est une journée terrible.\")"
      ],
      "metadata": {
        "id": "B44SAE77SJef"
      },
      "execution_count": null,
      "outputs": []
    }
  ]
}