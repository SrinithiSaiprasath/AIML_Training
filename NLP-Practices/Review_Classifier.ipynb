{
  "cells": [
    {
      "cell_type": "markdown",
      "metadata": {
        "colab_type": "text",
        "id": "view-in-github"
      },
      "source": [
        "<a href=\"https://colab.research.google.com/github/SrinithiSaiprasath/AIML_Training/blob/main/Untitled8.ipynb\" target=\"_parent\"><img src=\"https://colab.research.google.com/assets/colab-badge.svg\" alt=\"Open In Colab\"/></a>"
      ]
    },
    {
      "cell_type": "code",
      "execution_count": null,
      "metadata": {
        "id": "JRQ59MFxRlcv"
      },
      "outputs": [],
      "source": [
        "! pip install googletrans detect TextBlob langdetect\n",
        "from langdetect import detect\n",
        "from googletrans import Translator\n",
        "from textblob import TextBlob"
      ]
    },
    {
      "cell_type": "code",
      "execution_count": 5,
      "metadata": {
        "id": "WtUXLo37R73c"
      },
      "outputs": [],
      "source": [
        "translator = Translator()"
      ]
    },
    {
      "cell_type": "code",
      "execution_count": 6,
      "metadata": {
        "id": "VID7I8CgR_L2"
      },
      "outputs": [],
      "source": [
        "def detect_language(text):\n",
        "    try:\n",
        "        return detect(text)\n",
        "    except Exception as e:\n",
        "        print(f\"Language detection failed: {e}\")\n",
        "        return \"unknown\""
      ]
    },
    {
      "cell_type": "code",
      "execution_count": 10,
      "metadata": {
        "id": "Xg8RBJyHSBEu"
      },
      "outputs": [],
      "source": [
        "def translate_to_english(text):\n",
        "    try:\n",
        "        translated = translator.translate(text, dest='en')\n",
        "        return translated.text\n",
        "    except Exception as e:\n",
        "        return text"
      ]
    },
    {
      "cell_type": "code",
      "execution_count": 11,
      "metadata": {
        "id": "NWUVhqcXSD8C"
      },
      "outputs": [],
      "source": [
        "def Review_Classifier(text):\n",
        "    lang = detect_language(text)\n",
        "    if lang != \"en\":\n",
        "        text = translate_to_english(text)\n",
        "    blob = TextBlob(text)\n",
        "    sentiment_score = blob.sentiment.polarity  # Range: [-1, 1]\n",
        "    if sentiment_score > 0.1:\n",
        "        return \"positive\"\n",
        "    elif sentiment_score < -0.1:\n",
        "        return \"negative\"\n",
        "    else:\n",
        "        return \"neutral\""
      ]
    },
    {
      "cell_type": "code",
      "execution_count": 12,
      "metadata": {
        "id": "B44SAE77SJef"
      },
      "outputs": [
        {
          "data": {
            "text/plain": [
              "'negative'"
            ]
          },
          "execution_count": 12,
          "metadata": {},
          "output_type": "execute_result"
        }
      ],
      "source": [
        "Review_Classifier(\"C'est une journée terrible.\")"
      ]
    }
  ],
  "metadata": {
    "colab": {
      "authorship_tag": "ABX9TyNFWNv1Fug68S5M49EJTYCo",
      "include_colab_link": true,
      "provenance": []
    },
    "kernelspec": {
      "display_name": "Python 3",
      "name": "python3"
    },
    "language_info": {
      "codemirror_mode": {
        "name": "ipython",
        "version": 3
      },
      "file_extension": ".py",
      "mimetype": "text/x-python",
      "name": "python",
      "nbconvert_exporter": "python",
      "pygments_lexer": "ipython3",
      "version": "3.11.11"
    }
  },
  "nbformat": 4,
  "nbformat_minor": 0
}
